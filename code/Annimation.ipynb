{
 "cells": [
  {
   "cell_type": "code",
   "execution_count": null,
   "metadata": {},
   "outputs": [],
   "source": [
    "import matplotlib.pyplot as plt\n",
    "import matplotlib.image as img\n",
    "from matplotlib.animation import FuncAnimation\n",
    "from IPython.core.display import HTML"
   ]
  },
  {
   "cell_type": "code",
   "execution_count": null,
   "metadata": {},
   "outputs": [],
   "source": [
    "fig, ax = plt.subplots(figsize=(12,12))\n",
    "\n",
    "def draw_frame(frame_num):\n",
    "    if frame_num <= 5:\n",
    "        file_name = \"../image/pm2.5_\" + str(frame_num + 1707) + \".png\"\n",
    "        title = \"2017-\" + str(frame_num + 7) + \" PM2.5\"\n",
    "    elif frame_num >=6 and frame_num <= 17: \n",
    "        file_name = \"../image/pm2.5_\" + str(frame_num + 1801 - 6) + \".png\"\n",
    "        title = \"2018-\" + str(frame_num - 5) + \" PM2.5\"\n",
    "    else: \n",
    "        file_name = \"../image/pm2.5_\" + str(frame_num + 1901 - 18) + \".png\"\n",
    "        title = \"2019-\" + str(frame_num - 17) + \" PM2.5\"\n",
    "    image = img.imread(file_name)\n",
    "    plt.imshow(image)\n",
    "    plt.axis(\"off\")\n",
    "    plt.title(title)\n",
    "\n",
    "anim = FuncAnimation(fig, draw_frame, frames=24, interval=1000)\n",
    "html = anim.to_html5_video()\n",
    "plt.close(fig)\n",
    "HTML(html)"
   ]
  },
  {
   "cell_type": "code",
   "execution_count": null,
   "metadata": {},
   "outputs": [],
   "source": [
    "fig, ax = plt.subplots(figsize=(12,12))\n",
    "\n",
    "def draw_frame(frame_num):\n",
    "    if frame_num <= 5:\n",
    "        file_name = \"../image/pm10_\" + str(frame_num + 1707) + \".png\"\n",
    "        title = \"2017-\" + str(frame_num + 7) + \" PM10\"\n",
    "    elif frame_num >=6 and frame_num <= 17: \n",
    "        file_name = \"../image/pm10_\" + str(frame_num + 1801 - 6) + \".png\"\n",
    "        title = \"2018-\" + str(frame_num - 5) + \" PM10\"\n",
    "    else: \n",
    "        file_name = \"../image/pm10_\" + str(frame_num + 1901 - 18) + \".png\"\n",
    "        title = \"2019-\" + str(frame_num - 17) + \" PM10\"\n",
    "    image = img.imread(file_name)\n",
    "    plt.imshow(image)\n",
    "    plt.axis(\"off\")\n",
    "    plt.title(title)\n",
    "\n",
    "anim = FuncAnimation(fig, draw_frame, frames=24, interval=1000)\n",
    "html = anim.to_html5_video()\n",
    "plt.close(fig)\n",
    "HTML(html)"
   ]
  },
  {
   "cell_type": "code",
   "execution_count": null,
   "metadata": {},
   "outputs": [],
   "source": []
  }
 ],
 "metadata": {
  "kernelspec": {
   "display_name": "Python 3",
   "language": "python",
   "name": "python3"
  },
  "language_info": {
   "codemirror_mode": {
    "name": "ipython",
    "version": 3
   },
   "file_extension": ".py",
   "mimetype": "text/x-python",
   "name": "python",
   "nbconvert_exporter": "python",
   "pygments_lexer": "ipython3",
   "version": "3.7.4"
  }
 },
 "nbformat": 4,
 "nbformat_minor": 2
}
