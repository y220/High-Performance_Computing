{
 "cells": [
  {
   "cell_type": "code",
   "execution_count": 10,
   "metadata": {},
   "outputs": [],
   "source": [
    "import pandas as pd\n",
    "import numpy as np\n",
    "import os\n",
    "import re\n",
    "import matplotlib.pyplot as plt "
   ]
  },
  {
   "cell_type": "code",
   "execution_count": 3,
   "metadata": {},
   "outputs": [],
   "source": [
    "filePath = 'data\\\\'"
   ]
  },
  {
   "cell_type": "code",
   "execution_count": 4,
   "metadata": {},
   "outputs": [],
   "source": [
    "namelist=os.listdir(filePath)"
   ]
  },
  {
   "cell_type": "code",
   "execution_count": 5,
   "metadata": {},
   "outputs": [
    {
     "name": "stdout",
     "output_type": "stream",
     "text": [
      "2017-07_sds011sof.csv\n"
     ]
    }
   ],
   "source": [
    "data1=pd.read_csv('data/'+namelist[1])\n",
    "print(namelist[1])"
   ]
  },
  {
   "cell_type": "code",
   "execution_count": 6,
   "metadata": {
    "scrolled": true
   },
   "outputs": [],
   "source": [
    "df1=pd.DataFrame(data1)\n",
    "df1=df1.drop(['Unnamed: 0'],axis=1)"
   ]
  },
  {
   "cell_type": "code",
   "execution_count": 7,
   "metadata": {
    "scrolled": false
   },
   "outputs": [
    {
     "data": {
      "text/html": [
       "<div>\n",
       "<style scoped>\n",
       "    .dataframe tbody tr th:only-of-type {\n",
       "        vertical-align: middle;\n",
       "    }\n",
       "\n",
       "    .dataframe tbody tr th {\n",
       "        vertical-align: top;\n",
       "    }\n",
       "\n",
       "    .dataframe thead th {\n",
       "        text-align: right;\n",
       "    }\n",
       "</style>\n",
       "<table border=\"1\" class=\"dataframe\">\n",
       "  <thead>\n",
       "    <tr style=\"text-align: right;\">\n",
       "      <th></th>\n",
       "      <th>sensor_id</th>\n",
       "      <th>location</th>\n",
       "      <th>lat</th>\n",
       "      <th>lon</th>\n",
       "      <th>timestamp</th>\n",
       "      <th>P1</th>\n",
       "      <th>P2</th>\n",
       "    </tr>\n",
       "  </thead>\n",
       "  <tbody>\n",
       "    <tr>\n",
       "      <th>0</th>\n",
       "      <td>753</td>\n",
       "      <td>361</td>\n",
       "      <td>42.626</td>\n",
       "      <td>23.378</td>\n",
       "      <td>2017-07-01T00:00:00</td>\n",
       "      <td>13.77</td>\n",
       "      <td>6.80</td>\n",
       "    </tr>\n",
       "    <tr>\n",
       "      <th>1</th>\n",
       "      <td>1022</td>\n",
       "      <td>500</td>\n",
       "      <td>42.637</td>\n",
       "      <td>23.332</td>\n",
       "      <td>2017-07-01T00:00:06</td>\n",
       "      <td>13.33</td>\n",
       "      <td>7.73</td>\n",
       "    </tr>\n",
       "    <tr>\n",
       "      <th>2</th>\n",
       "      <td>2265</td>\n",
       "      <td>1140</td>\n",
       "      <td>42.738</td>\n",
       "      <td>23.272</td>\n",
       "      <td>2017-07-01T00:00:06</td>\n",
       "      <td>25.33</td>\n",
       "      <td>6.57</td>\n",
       "    </tr>\n",
       "    <tr>\n",
       "      <th>3</th>\n",
       "      <td>2291</td>\n",
       "      <td>1154</td>\n",
       "      <td>42.663</td>\n",
       "      <td>23.273</td>\n",
       "      <td>2017-07-01T00:00:07</td>\n",
       "      <td>15.07</td>\n",
       "      <td>9.67</td>\n",
       "    </tr>\n",
       "    <tr>\n",
       "      <th>4</th>\n",
       "      <td>3095</td>\n",
       "      <td>1558</td>\n",
       "      <td>42.700</td>\n",
       "      <td>23.360</td>\n",
       "      <td>2017-07-01T00:00:10</td>\n",
       "      <td>15.60</td>\n",
       "      <td>6.43</td>\n",
       "    </tr>\n",
       "  </tbody>\n",
       "</table>\n",
       "</div>"
      ],
      "text/plain": [
       "   sensor_id  location     lat     lon            timestamp     P1    P2\n",
       "0        753       361  42.626  23.378  2017-07-01T00:00:00  13.77  6.80\n",
       "1       1022       500  42.637  23.332  2017-07-01T00:00:06  13.33  7.73\n",
       "2       2265      1140  42.738  23.272  2017-07-01T00:00:06  25.33  6.57\n",
       "3       2291      1154  42.663  23.273  2017-07-01T00:00:07  15.07  9.67\n",
       "4       3095      1558  42.700  23.360  2017-07-01T00:00:10  15.60  6.43"
      ]
     },
     "execution_count": 7,
     "metadata": {},
     "output_type": "execute_result"
    }
   ],
   "source": [
    "df1.head(5)\n",
    "# sensor_id: the id of each sensor in sofia\n",
    "# location: the number of the location \n",
    "# lat: latitude\n",
    "# lon: longitude\n",
    "# timestamp: when the sensor get records\n",
    "# P1: PM2.5\n",
    "# P2: PM10"
   ]
  },
  {
   "cell_type": "code",
   "execution_count": 13,
   "metadata": {},
   "outputs": [
    {
     "data": {
      "image/png": "[encoded data removed]",
      "text/plain": [
       "<Figure size 432x288 with 1 Axes>"
      ]
     },
     "metadata": {
      "needs_background": "light"
     },
     "output_type": "display_data"
    }
   ],
   "source": [
    "plt.plot(df1.P1)\n",
    "plt.show()"
   ]
  },
  {
   "cell_type": "code",
   "execution_count": 8,
   "metadata": {},
   "outputs": [
    {
     "name": "stdout",
     "output_type": "stream",
     "text": [
      "2017-08_bme280sof.csv\n"
     ]
    }
   ],
   "source": [
    "data2=pd.read_csv('data/'+namelist[2])\n",
    "print(namelist[2])"
   ]
  },
  {
   "cell_type": "code",
   "execution_count": 11,
   "metadata": {},
   "outputs": [
    {
     "data": {
      "text/html": [
       "<div>\n",
       "<style scoped>\n",
       "    .dataframe tbody tr th:only-of-type {\n",
       "        vertical-align: middle;\n",
       "    }\n",
       "\n",
       "    .dataframe tbody tr th {\n",
       "        vertical-align: top;\n",
       "    }\n",
       "\n",
       "    .dataframe thead th {\n",
       "        text-align: right;\n",
       "    }\n",
       "</style>\n",
       "<table border=\"1\" class=\"dataframe\">\n",
       "  <thead>\n",
       "    <tr style=\"text-align: right;\">\n",
       "      <th></th>\n",
       "      <th>sensor_id</th>\n",
       "      <th>location</th>\n",
       "      <th>lat</th>\n",
       "      <th>lon</th>\n",
       "      <th>timestamp</th>\n",
       "      <th>pressure</th>\n",
       "      <th>temperature</th>\n",
       "      <th>humidity</th>\n",
       "    </tr>\n",
       "  </thead>\n",
       "  <tbody>\n",
       "    <tr>\n",
       "      <th>0</th>\n",
       "      <td>3642</td>\n",
       "      <td>1837</td>\n",
       "      <td>42.694</td>\n",
       "      <td>23.360</td>\n",
       "      <td>2017-08-01T00:00:02</td>\n",
       "      <td>95565.32</td>\n",
       "      <td>20.57</td>\n",
       "      <td>59.72</td>\n",
       "    </tr>\n",
       "    <tr>\n",
       "      <th>1</th>\n",
       "      <td>3102</td>\n",
       "      <td>1561</td>\n",
       "      <td>42.665</td>\n",
       "      <td>23.392</td>\n",
       "      <td>2017-08-01T00:00:05</td>\n",
       "      <td>95804.66</td>\n",
       "      <td>20.91</td>\n",
       "      <td>56.63</td>\n",
       "    </tr>\n",
       "    <tr>\n",
       "      <th>2</th>\n",
       "      <td>4475</td>\n",
       "      <td>2250</td>\n",
       "      <td>42.654</td>\n",
       "      <td>23.316</td>\n",
       "      <td>2017-08-01T00:00:06</td>\n",
       "      <td>95105.52</td>\n",
       "      <td>21.16</td>\n",
       "      <td>56.28</td>\n",
       "    </tr>\n",
       "    <tr>\n",
       "      <th>3</th>\n",
       "      <td>3436</td>\n",
       "      <td>1731</td>\n",
       "      <td>42.693</td>\n",
       "      <td>23.359</td>\n",
       "      <td>2017-08-01T00:00:07</td>\n",
       "      <td>95701.00</td>\n",
       "      <td>21.96</td>\n",
       "      <td>55.78</td>\n",
       "    </tr>\n",
       "    <tr>\n",
       "      <th>4</th>\n",
       "      <td>3096</td>\n",
       "      <td>1558</td>\n",
       "      <td>42.700</td>\n",
       "      <td>23.360</td>\n",
       "      <td>2017-08-01T00:00:08</td>\n",
       "      <td>95908.99</td>\n",
       "      <td>21.94</td>\n",
       "      <td>54.01</td>\n",
       "    </tr>\n",
       "  </tbody>\n",
       "</table>\n",
       "</div>"
      ],
      "text/plain": [
       "   sensor_id  location     lat     lon            timestamp  pressure  \\\n",
       "0       3642      1837  42.694  23.360  2017-08-01T00:00:02  95565.32   \n",
       "1       3102      1561  42.665  23.392  2017-08-01T00:00:05  95804.66   \n",
       "2       4475      2250  42.654  23.316  2017-08-01T00:00:06  95105.52   \n",
       "3       3436      1731  42.693  23.359  2017-08-01T00:00:07  95701.00   \n",
       "4       3096      1558  42.700  23.360  2017-08-01T00:00:08  95908.99   \n",
       "\n",
       "   temperature  humidity  \n",
       "0        20.57     59.72  \n",
       "1        20.91     56.63  \n",
       "2        21.16     56.28  \n",
       "3        21.96     55.78  \n",
       "4        21.94     54.01  "
      ]
     },
     "execution_count": 11,
     "metadata": {},
     "output_type": "execute_result"
    }
   ],
   "source": [
    "df2=pd.DataFrame(data2)\n",
    "df2=df2.drop(['Unnamed: 0'],axis=1)\n",
    "df2.head(5)"
   ]
  },
  {
   "cell_type": "code",
   "execution_count": 14,
   "metadata": {},
   "outputs": [
    {
     "data": {
      "image/png": "[encoded data removed]",
      "text/plain": [
       "<Figure size 432x288 with 1 Axes>"
      ]
     },
     "metadata": {
      "needs_background": "light"
     },
     "output_type": "display_data"
    }
   ],
   "source": [
    "plt.plot(df2.humidity)\n",
    "plt.show()"
   ]
  },
  {
   "cell_type": "code",
   "execution_count": null,
   "metadata": {},
   "outputs": [],
   "source": []
  }
 ],
 "metadata": {
  "kernelspec": {
   "display_name": "Python 3",
   "language": "python",
   "name": "python3"
  },
  "language_info": {
   "codemirror_mode": {
    "name": "ipython",
    "version": 3
   },
   "file_extension": ".py",
   "mimetype": "text/x-python",
   "name": "python",
   "nbconvert_exporter": "python",
   "pygments_lexer": "ipython3",
   "version": "3.8.3"
  }
 },
 "nbformat": 4,
 "nbformat_minor": 4
}
